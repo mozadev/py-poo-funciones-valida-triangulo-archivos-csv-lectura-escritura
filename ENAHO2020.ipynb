{
 "cells": [
  {
   "cell_type": "code",
   "execution_count": 67,
   "metadata": {},
   "outputs": [
    {
     "name": "stdin",
     "output_type": "stream",
     "text": [
      "Once deleted, variables cannot be recovered. Proceed (y/[n])?  y\n"
     ]
    }
   ],
   "source": [
    "#reset "
   ]
  },
  {
   "cell_type": "code",
   "execution_count": 68,
   "metadata": {},
   "outputs": [],
   "source": [
    "import os"
   ]
  },
  {
   "cell_type": "code",
   "execution_count": 69,
   "metadata": {},
   "outputs": [
    {
     "name": "stdout",
     "output_type": "stream",
     "text": [
      "The current working directory is None\n"
     ]
    }
   ],
   "source": [
    "path=\"C:/Users/Henry/Desktop/Cursos/python/pucp/tarea\"\n",
    "# detect the current working directory and print it\n",
    "path = os.chdir(path)\n",
    "print (\"The current working directory is %s\" % path)"
   ]
  },
  {
   "cell_type": "code",
   "execution_count": 70,
   "metadata": {},
   "outputs": [
    {
     "name": "stdout",
     "output_type": "stream",
     "text": [
      "The current working directory is C:\\Users\\Henry\\Desktop\\Cursos\\python\\pucp\\tarea\n"
     ]
    }
   ],
   "source": [
    "# detect the current working directory and print it\n",
    "path = os.getcwd()\n",
    "print (\"The current working directory is %s\" % path)"
   ]
  },
  {
   "cell_type": "code",
   "execution_count": 5,
   "metadata": {},
   "outputs": [
    {
     "name": "stdout",
     "output_type": "stream",
     "text": [
      "Successfully created the directory data\n"
     ]
    }
   ],
   "source": [
    "#crear carpetas\n",
    "# define las carpeta\n",
    "path = \"data\"\n",
    "try:\n",
    "    os.makedirs(path)\n",
    "except OSError:\n",
    "    print (\"Creation of the directory %s failed\" % path)\n",
    "else:\n",
    "    print (\"Successfully created the directory %s\" % path)"
   ]
  },
  {
   "cell_type": "code",
   "execution_count": 6,
   "metadata": {},
   "outputs": [],
   "source": [
    "import requests\n",
    "import requests, zipfile, io\n",
    "\n",
    "##modulo 1\n",
    "\n",
    "url='http://iinei.inei.gob.pe/iinei/srienaho/descarga/STATA/687-Modulo01.zip'\n",
    "r = requests.get(url, allow_redirects=True)\n",
    "z=zipfile.ZipFile(io.BytesIO(r.content))\n",
    "z.extractall(path) \n",
    "\n",
    "#modulo2\n",
    "url='http://iinei.inei.gob.pe/iinei/srienaho/descarga/STATA/687-Modulo02.zip'\n",
    "r = requests.get(url, allow_redirects=True)\n",
    "z=zipfile.ZipFile(io.BytesIO(r.content))\n",
    "z.extractall(path) \n",
    "#Moudulo3\n",
    "url='http://iinei.inei.gob.pe/iinei/srienaho/descarga/STATA/687-Modulo03.zip'\n",
    "r = requests.get(url, allow_redirects=True)\n",
    "z=zipfile.ZipFile(io.BytesIO(r.content))\n",
    "z.extractall(path) \n",
    "#moudlo 4\n",
    "url='http://iinei.inei.gob.pe/iinei/srienaho/descarga/STATA/687-Modulo04.zip'\n",
    "r = requests.get(url, allow_redirects=True)\n",
    "z=zipfile.ZipFile(io.BytesIO(r.content))\n",
    "z.extractall(path) \n",
    "#modulo 5\n",
    "url='http://iinei.inei.gob.pe/iinei/srienaho/descarga/STATA/687-Modulo05.zip'\n",
    "r = requests.get(url, allow_redirects=True)\n",
    "z=zipfile.ZipFile(io.BytesIO(r.content))\n",
    "z.extractall(path) \n"
   ]
  },
  {
   "cell_type": "code",
   "execution_count": 7,
   "metadata": {},
   "outputs": [],
   "source": [
    "#lista de archivos\n",
    "os.listdir('data/')\n",
    "folder=os.listdir('data/')"
   ]
  },
  {
   "cell_type": "code",
   "execution_count": 8,
   "metadata": {},
   "outputs": [
    {
     "name": "stdout",
     "output_type": "stream",
     "text": [
      "data/687-Modulo01\n",
      "data/687-Modulo02\n",
      "data/687-Modulo03\n",
      "data/687-Modulo04\n",
      "data/687-Modulo05\n"
     ]
    }
   ],
   "source": [
    "for i in folder:\n",
    "    print(path+\"/\"+i)"
   ]
  },
  {
   "cell_type": "code",
   "execution_count": 9,
   "metadata": {},
   "outputs": [
    {
     "name": "stdout",
     "output_type": "stream",
     "text": [
      "data/687-Modulo01 Modulo01\n",
      "data/687-Modulo02 Modulo02\n",
      "data/687-Modulo03 Modulo03\n",
      "data/687-Modulo04 Modulo04\n",
      "data/687-Modulo05 Modulo05\n"
     ]
    }
   ],
   "source": [
    "for i in folder:\n",
    "    print(path+\"/\"+i,i.split(sep=\"-\",maxsplit=2)[1])"
   ]
  },
  {
   "cell_type": "code",
   "execution_count": 10,
   "metadata": {},
   "outputs": [],
   "source": [
    "for i in folder:\n",
    "    os.rename(path+\"/\"+i,path+\"/\"+i.split(sep=\"-\",maxsplit=2)[1])"
   ]
  },
  {
   "cell_type": "code",
   "execution_count": 11,
   "metadata": {},
   "outputs": [
    {
     "name": "stdout",
     "output_type": "stream",
     "text": [
      "data/Modulo01\n",
      "data/Modulo02\n",
      "data/Modulo03\n",
      "data/Modulo04\n",
      "data/Modulo05\n"
     ]
    }
   ],
   "source": [
    "folder=os.listdir('data/')\n",
    "for i in folder:\n",
    "    print(path+\"/\"+i)"
   ]
  },
  {
   "cell_type": "code",
   "execution_count": 71,
   "metadata": {},
   "outputs": [
    {
     "ename": "NameError",
     "evalue": "name 'folder' is not defined",
     "output_type": "error",
     "traceback": [
      "\u001b[1;31m---------------------------------------------------------------------------\u001b[0m",
      "\u001b[1;31mNameError\u001b[0m                                 Traceback (most recent call last)",
      "\u001b[1;32m<ipython-input-71-7edb5c60aa3d>\u001b[0m in \u001b[0;36m<module>\u001b[1;34m\u001b[0m\n\u001b[1;32m----> 1\u001b[1;33m \u001b[0mfolder\u001b[0m\u001b[1;33m\u001b[0m\u001b[1;33m\u001b[0m\u001b[0m\n\u001b[0m",
      "\u001b[1;31mNameError\u001b[0m: name 'folder' is not defined"
     ]
    }
   ],
   "source": [
    "folder"
   ]
  },
  {
   "cell_type": "code",
   "execution_count": 43,
   "metadata": {},
   "outputs": [],
   "source": [
    "##############Trabajo##############"
   ]
  },
  {
   "cell_type": "code",
   "execution_count": null,
   "metadata": {},
   "outputs": [],
   "source": [
    "## importar las bases de datos\n",
    "## selecccionar las variables de bases que se necesitan\n",
    "## Sugerencia de variables\n",
    "## ingreso por persona, edad , sexo , ingreso, ¿Tiene seguro?, ¿Grado de educacion?, tipo de vivienda, estrato\n",
    "## imputar por mice ()"
   ]
  },
  {
   "cell_type": "code",
   "execution_count": 72,
   "metadata": {},
   "outputs": [],
   "source": [
    "## importar las bases de datos\n",
    "import pandas as pd\n",
    "df02 = pd.read_stata('data/Modulo02/enaho01-2019-200.dta',convert_categoricals=False)\n",
    "df02=df02[[\"conglome\",\"vivienda\",\"hogar\",\"codperso\",\"ubigeo\",\"p207\",\"p208a\"]]\n",
    "df03 = pd.read_stata('data/Modulo03/enaho01a-2019-300.dta',convert_categoricals=False)\n",
    "df03=df03[[\"conglome\",\"vivienda\",\"hogar\",\"codperso\",\"p301a\",\"p301b\",\"p301c\"]]\n",
    "df05 = pd.read_stata('data/Modulo05/enaho01a-2019-500.dta',convert_categoricals=False)"
   ]
  },
  {
   "cell_type": "code",
   "execution_count": 74,
   "metadata": {},
   "outputs": [],
   "source": [
    "## selecccionar las variables de bases que se necesitan\n",
    "Enaho=pd.merge(df02,df03,\n",
    "             how='left',\n",
    "             on=(\"conglome\",\"vivienda\",\"hogar\",\"codperso\"))\n"
   ]
  },
  {
   "cell_type": "code",
   "execution_count": 56,
   "metadata": {},
   "outputs": [],
   "source": [
    "Enaho=pd.merge(Enaho,df05,\n",
    "             how='left',\n",
    "             on=(\"conglome\",\"vivienda\",\"hogar\",\"codperso\"))"
   ]
  },
  {
   "cell_type": "code",
   "execution_count": 75,
   "metadata": {},
   "outputs": [],
   "source": [
    "#filtramos aquellas persona que tenga edad mayor a 15 años\n",
    "Ena15=Enaho[Enaho['p208a']>15]"
   ]
  },
  {
   "cell_type": "code",
   "execution_count": 76,
   "metadata": {},
   "outputs": [
    {
     "data": {
      "text/plain": [
       "2.0    46418\n",
       "1.0    42943\n",
       "Name: p207, dtype: int64"
      ]
     },
     "execution_count": 76,
     "metadata": {},
     "output_type": "execute_result"
    }
   ],
   "source": [
    "# creacion de indicadores\n",
    "# Indicador del sexo del entrevistado\n",
    "import numpy as np\n",
    "Ena15['Sexo']=np.where(Ena15['p207']==1,'Hombre','Mujer')"
   ]
  },
  {
   "cell_type": "code",
   "execution_count": 78,
   "metadata": {},
   "outputs": [
    {
     "data": {
      "text/plain": [
       "Mujer     46418\n",
       "Hombre    42943\n",
       "Name: Sexo, dtype: int64"
      ]
     },
     "execution_count": 78,
     "metadata": {},
     "output_type": "execute_result"
    }
   ],
   "source": [
    "Ena15['Sexo'].value_counts(dropna=False)"
   ]
  },
  {
   "cell_type": "code",
   "execution_count": 80,
   "metadata": {},
   "outputs": [
    {
     "data": {
      "text/plain": [
       "6.0     21568\n",
       "3.0     12533\n",
       "5.0     11560\n",
       "4.0     10712\n",
       "8.0      7221\n",
       "10.0     6685\n",
       "9.0      5852\n",
       "1.0      5635\n",
       "7.0      3663\n",
       "NaN      2390\n",
       "11.0     1404\n",
       "12.0      103\n",
       "2.0        35\n",
       "Name: p301a, dtype: int64"
      ]
     },
     "execution_count": 80,
     "metadata": {},
     "output_type": "execute_result"
    }
   ],
   "source": [
    "Ena15[\"p301a\"].value_counts(dropna=False)"
   ]
  },
  {
   "cell_type": "code",
   "execution_count": 104,
   "metadata": {},
   "outputs": [
    {
     "ename": "TypeError",
     "evalue": "'int' object is not iterable",
     "output_type": "error",
     "traceback": [
      "\u001b[1;31m---------------------------------------------------------------------------\u001b[0m",
      "\u001b[1;31mTypeError\u001b[0m                                 Traceback (most recent call last)",
      "\u001b[1;32m<ipython-input-104-a79f63b74f23>\u001b[0m in \u001b[0;36m<module>\u001b[1;34m\u001b[0m\n\u001b[0;32m      1\u001b[0m \u001b[1;31m#Ena15[\"Nivel_edu\"]=0\u001b[0m\u001b[1;33m\u001b[0m\u001b[1;33m\u001b[0m\u001b[1;33m\u001b[0m\u001b[0m\n\u001b[1;32m----> 2\u001b[1;33m \u001b[1;32mfor\u001b[0m \u001b[0mi\u001b[0m \u001b[1;32min\u001b[0m \u001b[0mlen\u001b[0m\u001b[1;33m(\u001b[0m\u001b[0mEna15\u001b[0m\u001b[1;33m[\u001b[0m\u001b[1;34m\"p301a\"\u001b[0m\u001b[1;33m]\u001b[0m\u001b[1;33m)\u001b[0m \u001b[1;33m:\u001b[0m\u001b[1;33m\u001b[0m\u001b[1;33m\u001b[0m\u001b[0m\n\u001b[0m\u001b[0;32m      3\u001b[0m     \u001b[1;32mif\u001b[0m \u001b[1;33m(\u001b[0m\u001b[1;33m(\u001b[0m\u001b[0mEna15\u001b[0m\u001b[1;33m[\u001b[0m\u001b[1;34m\"p301a\"\u001b[0m\u001b[1;33m]\u001b[0m\u001b[1;33m[\u001b[0m\u001b[0mi\u001b[0m\u001b[1;33m]\u001b[0m\u001b[1;33m>=\u001b[0m\u001b[1;36m1\u001b[0m \u001b[1;33m&\u001b[0m \u001b[0mEna15\u001b[0m\u001b[1;33m[\u001b[0m\u001b[1;34m\"p301a\"\u001b[0m\u001b[1;33m]\u001b[0m\u001b[1;33m[\u001b[0m\u001b[0mi\u001b[0m\u001b[1;33m]\u001b[0m\u001b[1;33m<=\u001b[0m\u001b[1;36m3\u001b[0m \u001b[1;33m)\u001b[0m \u001b[1;32mor\u001b[0m \u001b[0mEna15\u001b[0m\u001b[1;33m[\u001b[0m\u001b[1;34m\"p301a\"\u001b[0m\u001b[1;33m]\u001b[0m\u001b[1;33m[\u001b[0m\u001b[0mi\u001b[0m\u001b[1;33m]\u001b[0m\u001b[1;33m==\u001b[0m\u001b[1;36m12\u001b[0m\u001b[1;33m)\u001b[0m\u001b[1;33m:\u001b[0m\u001b[1;33m\u001b[0m\u001b[1;33m\u001b[0m\u001b[0m\n\u001b[0;32m      4\u001b[0m         \u001b[0mEna15\u001b[0m\u001b[1;33m[\u001b[0m\u001b[1;34m\"Nivel_edu\"\u001b[0m\u001b[1;33m]\u001b[0m\u001b[1;33m[\u001b[0m\u001b[0mi\u001b[0m\u001b[1;33m]\u001b[0m\u001b[1;33m=\u001b[0m\u001b[1;34m\"Sin nivel\"\u001b[0m\u001b[1;33m\u001b[0m\u001b[1;33m\u001b[0m\u001b[0m\n\u001b[0;32m      5\u001b[0m \u001b[1;33m\u001b[0m\u001b[0m\n",
      "\u001b[1;31mTypeError\u001b[0m: 'int' object is not iterable"
     ]
    }
   ],
   "source": [
    "#Ena15[\"Nivel_edu\"]=0\n",
    "for i in len(Ena15[\"p301a\"]) :\n",
    "    if ((Ena15[\"p301a\"][i]>=1 & Ena15[\"p301a\"][i]<=3 ) or Ena15[\"p301a\"][i]==12):\n",
    "        Ena15[\"Nivel_edu\"][i]=\"Sin nivel\"\n",
    "        "
   ]
  },
  {
   "cell_type": "code",
   "execution_count": 91,
   "metadata": {},
   "outputs": [
    {
     "data": {
      "text/plain": [
       "89361"
      ]
     },
     "execution_count": 91,
     "metadata": {},
     "output_type": "execute_result"
    }
   ],
   "source": [
    "len(Ena15[\"p301a\"])"
   ]
  },
  {
   "cell_type": "code",
   "execution_count": 102,
   "metadata": {},
   "outputs": [
    {
     "data": {
      "text/html": [
       "<div>\n",
       "<style scoped>\n",
       "    .dataframe tbody tr th:only-of-type {\n",
       "        vertical-align: middle;\n",
       "    }\n",
       "\n",
       "    .dataframe tbody tr th {\n",
       "        vertical-align: top;\n",
       "    }\n",
       "\n",
       "    .dataframe thead th {\n",
       "        text-align: right;\n",
       "    }\n",
       "</style>\n",
       "<table border=\"1\" class=\"dataframe\">\n",
       "  <thead>\n",
       "    <tr style=\"text-align: right;\">\n",
       "      <th></th>\n",
       "      <th>conglome</th>\n",
       "      <th>vivienda</th>\n",
       "      <th>hogar</th>\n",
       "      <th>codperso</th>\n",
       "      <th>ubigeo</th>\n",
       "      <th>p207</th>\n",
       "      <th>p208a</th>\n",
       "      <th>p301a</th>\n",
       "      <th>p301b</th>\n",
       "      <th>p301c</th>\n",
       "      <th>Sexo</th>\n",
       "      <th>Nivel_edu</th>\n",
       "    </tr>\n",
       "  </thead>\n",
       "  <tbody>\n",
       "    <tr>\n",
       "      <th>0</th>\n",
       "      <td>005009</td>\n",
       "      <td>041</td>\n",
       "      <td>11</td>\n",
       "      <td>01</td>\n",
       "      <td>010101</td>\n",
       "      <td>2.0</td>\n",
       "      <td>60.0</td>\n",
       "      <td>1.0</td>\n",
       "      <td>NaN</td>\n",
       "      <td>NaN</td>\n",
       "      <td>Mujer</td>\n",
       "      <td>0</td>\n",
       "    </tr>\n",
       "    <tr>\n",
       "      <th>1</th>\n",
       "      <td>005009</td>\n",
       "      <td>041</td>\n",
       "      <td>11</td>\n",
       "      <td>02</td>\n",
       "      <td>010101</td>\n",
       "      <td>2.0</td>\n",
       "      <td>28.0</td>\n",
       "      <td>10.0</td>\n",
       "      <td>5.0</td>\n",
       "      <td>NaN</td>\n",
       "      <td>Mujer</td>\n",
       "      <td>0</td>\n",
       "    </tr>\n",
       "    <tr>\n",
       "      <th>2</th>\n",
       "      <td>005009</td>\n",
       "      <td>056</td>\n",
       "      <td>11</td>\n",
       "      <td>01</td>\n",
       "      <td>010101</td>\n",
       "      <td>2.0</td>\n",
       "      <td>48.0</td>\n",
       "      <td>5.0</td>\n",
       "      <td>4.0</td>\n",
       "      <td>NaN</td>\n",
       "      <td>Mujer</td>\n",
       "      <td>0</td>\n",
       "    </tr>\n",
       "    <tr>\n",
       "      <th>3</th>\n",
       "      <td>005009</td>\n",
       "      <td>056</td>\n",
       "      <td>11</td>\n",
       "      <td>02</td>\n",
       "      <td>010101</td>\n",
       "      <td>2.0</td>\n",
       "      <td>25.0</td>\n",
       "      <td>6.0</td>\n",
       "      <td>5.0</td>\n",
       "      <td>NaN</td>\n",
       "      <td>Mujer</td>\n",
       "      <td>0</td>\n",
       "    </tr>\n",
       "    <tr>\n",
       "      <th>4</th>\n",
       "      <td>005009</td>\n",
       "      <td>056</td>\n",
       "      <td>11</td>\n",
       "      <td>03</td>\n",
       "      <td>010101</td>\n",
       "      <td>2.0</td>\n",
       "      <td>16.0</td>\n",
       "      <td>6.0</td>\n",
       "      <td>5.0</td>\n",
       "      <td>NaN</td>\n",
       "      <td>Mujer</td>\n",
       "      <td>0</td>\n",
       "    </tr>\n",
       "    <tr>\n",
       "      <th>...</th>\n",
       "      <td>...</td>\n",
       "      <td>...</td>\n",
       "      <td>...</td>\n",
       "      <td>...</td>\n",
       "      <td>...</td>\n",
       "      <td>...</td>\n",
       "      <td>...</td>\n",
       "      <td>...</td>\n",
       "      <td>...</td>\n",
       "      <td>...</td>\n",
       "      <td>...</td>\n",
       "      <td>...</td>\n",
       "    </tr>\n",
       "    <tr>\n",
       "      <th>128265</th>\n",
       "      <td>011350</td>\n",
       "      <td>078</td>\n",
       "      <td>11</td>\n",
       "      <td>01</td>\n",
       "      <td>180101</td>\n",
       "      <td>2.0</td>\n",
       "      <td>28.0</td>\n",
       "      <td>7.0</td>\n",
       "      <td>3.0</td>\n",
       "      <td>NaN</td>\n",
       "      <td>Mujer</td>\n",
       "      <td>0</td>\n",
       "    </tr>\n",
       "    <tr>\n",
       "      <th>128268</th>\n",
       "      <td>011350</td>\n",
       "      <td>097</td>\n",
       "      <td>11</td>\n",
       "      <td>01</td>\n",
       "      <td>180101</td>\n",
       "      <td>1.0</td>\n",
       "      <td>35.0</td>\n",
       "      <td>8.0</td>\n",
       "      <td>3.0</td>\n",
       "      <td>NaN</td>\n",
       "      <td>Hombre</td>\n",
       "      <td>0</td>\n",
       "    </tr>\n",
       "    <tr>\n",
       "      <th>128269</th>\n",
       "      <td>011350</td>\n",
       "      <td>097</td>\n",
       "      <td>11</td>\n",
       "      <td>02</td>\n",
       "      <td>180101</td>\n",
       "      <td>2.0</td>\n",
       "      <td>33.0</td>\n",
       "      <td>8.0</td>\n",
       "      <td>3.0</td>\n",
       "      <td>NaN</td>\n",
       "      <td>Mujer</td>\n",
       "      <td>0</td>\n",
       "    </tr>\n",
       "    <tr>\n",
       "      <th>128273</th>\n",
       "      <td>011350</td>\n",
       "      <td>116</td>\n",
       "      <td>11</td>\n",
       "      <td>01</td>\n",
       "      <td>180101</td>\n",
       "      <td>2.0</td>\n",
       "      <td>41.0</td>\n",
       "      <td>5.0</td>\n",
       "      <td>4.0</td>\n",
       "      <td>NaN</td>\n",
       "      <td>Mujer</td>\n",
       "      <td>0</td>\n",
       "    </tr>\n",
       "    <tr>\n",
       "      <th>128274</th>\n",
       "      <td>011350</td>\n",
       "      <td>116</td>\n",
       "      <td>11</td>\n",
       "      <td>02</td>\n",
       "      <td>180101</td>\n",
       "      <td>1.0</td>\n",
       "      <td>22.0</td>\n",
       "      <td>9.0</td>\n",
       "      <td>1.0</td>\n",
       "      <td>NaN</td>\n",
       "      <td>Hombre</td>\n",
       "      <td>0</td>\n",
       "    </tr>\n",
       "  </tbody>\n",
       "</table>\n",
       "<p>89361 rows × 12 columns</p>\n",
       "</div>"
      ],
      "text/plain": [
       "       conglome vivienda hogar codperso  ubigeo  p207  p208a  p301a  p301b  \\\n",
       "0        005009      041    11       01  010101   2.0   60.0    1.0    NaN   \n",
       "1        005009      041    11       02  010101   2.0   28.0   10.0    5.0   \n",
       "2        005009      056    11       01  010101   2.0   48.0    5.0    4.0   \n",
       "3        005009      056    11       02  010101   2.0   25.0    6.0    5.0   \n",
       "4        005009      056    11       03  010101   2.0   16.0    6.0    5.0   \n",
       "...         ...      ...   ...      ...     ...   ...    ...    ...    ...   \n",
       "128265   011350      078    11       01  180101   2.0   28.0    7.0    3.0   \n",
       "128268   011350      097    11       01  180101   1.0   35.0    8.0    3.0   \n",
       "128269   011350      097    11       02  180101   2.0   33.0    8.0    3.0   \n",
       "128273   011350      116    11       01  180101   2.0   41.0    5.0    4.0   \n",
       "128274   011350      116    11       02  180101   1.0   22.0    9.0    1.0   \n",
       "\n",
       "        p301c    Sexo  Nivel_edu  \n",
       "0         NaN   Mujer          0  \n",
       "1         NaN   Mujer          0  \n",
       "2         NaN   Mujer          0  \n",
       "3         NaN   Mujer          0  \n",
       "4         NaN   Mujer          0  \n",
       "...       ...     ...        ...  \n",
       "128265    NaN   Mujer          0  \n",
       "128268    NaN  Hombre          0  \n",
       "128269    NaN   Mujer          0  \n",
       "128273    NaN   Mujer          0  \n",
       "128274    NaN  Hombre          0  \n",
       "\n",
       "[89361 rows x 12 columns]"
      ]
     },
     "execution_count": 102,
     "metadata": {},
     "output_type": "execute_result"
    }
   ],
   "source": [
    "Ena15"
   ]
  },
  {
   "cell_type": "code",
   "execution_count": null,
   "metadata": {},
   "outputs": [],
   "source": []
  }
 ],
 "metadata": {
  "kernelspec": {
   "display_name": "Python 3",
   "language": "python",
   "name": "python3"
  },
  "language_info": {
   "codemirror_mode": {
    "name": "ipython",
    "version": 3
   },
   "file_extension": ".py",
   "mimetype": "text/x-python",
   "name": "python",
   "nbconvert_exporter": "python",
   "pygments_lexer": "ipython3",
   "version": "3.8.3"
  }
 },
 "nbformat": 4,
 "nbformat_minor": 4
}
